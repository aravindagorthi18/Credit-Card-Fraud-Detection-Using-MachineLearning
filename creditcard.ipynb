{
 "cells": [
  {
   "cell_type": "code",
   "execution_count": 1,
   "id": "635a5aca",
   "metadata": {},
   "outputs": [],
   "source": [
    "import pandas as pd\n",
    "import numpy as np\n",
    "import matplotlib.pyplot as plt\n",
    "import seaborn as sns\n",
    "from IPython import get_ipython\n",
    "import warnings\n",
    "warnings.filterwarnings(\"ignore\")"
   ]
  },
  {
   "cell_type": "code",
   "execution_count": 2,
   "id": "49fd60cc",
   "metadata": {},
   "outputs": [],
   "source": [
    "data = pd.read_csv(\"credit.csv\")"
   ]
  },
  {
   "cell_type": "code",
   "execution_count": 3,
   "id": "cce993b8",
   "metadata": {},
   "outputs": [
    {
     "data": {
      "text/html": [
       "<div>\n",
       "<style scoped>\n",
       "    .dataframe tbody tr th:only-of-type {\n",
       "        vertical-align: middle;\n",
       "    }\n",
       "\n",
       "    .dataframe tbody tr th {\n",
       "        vertical-align: top;\n",
       "    }\n",
       "\n",
       "    .dataframe thead th {\n",
       "        text-align: right;\n",
       "    }\n",
       "</style>\n",
       "<table border=\"1\" class=\"dataframe\">\n",
       "  <thead>\n",
       "    <tr style=\"text-align: right;\">\n",
       "      <th></th>\n",
       "      <th>Time</th>\n",
       "      <th>V1</th>\n",
       "      <th>V2</th>\n",
       "      <th>V3</th>\n",
       "      <th>V4</th>\n",
       "      <th>V5</th>\n",
       "      <th>V6</th>\n",
       "      <th>V7</th>\n",
       "      <th>V8</th>\n",
       "      <th>V9</th>\n",
       "      <th>...</th>\n",
       "      <th>V21</th>\n",
       "      <th>V22</th>\n",
       "      <th>V23</th>\n",
       "      <th>V24</th>\n",
       "      <th>V25</th>\n",
       "      <th>V26</th>\n",
       "      <th>V27</th>\n",
       "      <th>V28</th>\n",
       "      <th>Amount</th>\n",
       "      <th>Class</th>\n",
       "    </tr>\n",
       "  </thead>\n",
       "  <tbody>\n",
       "    <tr>\n",
       "      <th>0</th>\n",
       "      <td>0</td>\n",
       "      <td>-1.359807</td>\n",
       "      <td>-0.072781</td>\n",
       "      <td>2.536347</td>\n",
       "      <td>1.378155</td>\n",
       "      <td>-0.338321</td>\n",
       "      <td>0.462388</td>\n",
       "      <td>0.239599</td>\n",
       "      <td>0.098698</td>\n",
       "      <td>0.363787</td>\n",
       "      <td>...</td>\n",
       "      <td>-0.018307</td>\n",
       "      <td>0.277838</td>\n",
       "      <td>-0.110474</td>\n",
       "      <td>0.066928</td>\n",
       "      <td>0.128539</td>\n",
       "      <td>-0.189115</td>\n",
       "      <td>0.133558</td>\n",
       "      <td>-0.021053</td>\n",
       "      <td>149.62</td>\n",
       "      <td>0</td>\n",
       "    </tr>\n",
       "    <tr>\n",
       "      <th>1</th>\n",
       "      <td>0</td>\n",
       "      <td>1.191857</td>\n",
       "      <td>0.266151</td>\n",
       "      <td>0.166480</td>\n",
       "      <td>0.448154</td>\n",
       "      <td>0.060018</td>\n",
       "      <td>-0.082361</td>\n",
       "      <td>-0.078803</td>\n",
       "      <td>0.085102</td>\n",
       "      <td>-0.255425</td>\n",
       "      <td>...</td>\n",
       "      <td>-0.225775</td>\n",
       "      <td>-0.638672</td>\n",
       "      <td>0.101288</td>\n",
       "      <td>-0.339846</td>\n",
       "      <td>0.167170</td>\n",
       "      <td>0.125895</td>\n",
       "      <td>-0.008983</td>\n",
       "      <td>0.014724</td>\n",
       "      <td>2.69</td>\n",
       "      <td>0</td>\n",
       "    </tr>\n",
       "    <tr>\n",
       "      <th>2</th>\n",
       "      <td>1</td>\n",
       "      <td>-1.358354</td>\n",
       "      <td>-1.340163</td>\n",
       "      <td>1.773209</td>\n",
       "      <td>0.379780</td>\n",
       "      <td>-0.503198</td>\n",
       "      <td>1.800499</td>\n",
       "      <td>0.791461</td>\n",
       "      <td>0.247676</td>\n",
       "      <td>-1.514654</td>\n",
       "      <td>...</td>\n",
       "      <td>0.247998</td>\n",
       "      <td>0.771679</td>\n",
       "      <td>0.909412</td>\n",
       "      <td>-0.689281</td>\n",
       "      <td>-0.327642</td>\n",
       "      <td>-0.139097</td>\n",
       "      <td>-0.055353</td>\n",
       "      <td>-0.059752</td>\n",
       "      <td>378.66</td>\n",
       "      <td>0</td>\n",
       "    </tr>\n",
       "    <tr>\n",
       "      <th>3</th>\n",
       "      <td>1</td>\n",
       "      <td>-0.966272</td>\n",
       "      <td>-0.185226</td>\n",
       "      <td>1.792993</td>\n",
       "      <td>-0.863291</td>\n",
       "      <td>-0.010309</td>\n",
       "      <td>1.247203</td>\n",
       "      <td>0.237609</td>\n",
       "      <td>0.377436</td>\n",
       "      <td>-1.387024</td>\n",
       "      <td>...</td>\n",
       "      <td>-0.108300</td>\n",
       "      <td>0.005274</td>\n",
       "      <td>-0.190321</td>\n",
       "      <td>-1.175575</td>\n",
       "      <td>0.647376</td>\n",
       "      <td>-0.221929</td>\n",
       "      <td>0.062723</td>\n",
       "      <td>0.061458</td>\n",
       "      <td>123.50</td>\n",
       "      <td>0</td>\n",
       "    </tr>\n",
       "    <tr>\n",
       "      <th>4</th>\n",
       "      <td>2</td>\n",
       "      <td>-1.158233</td>\n",
       "      <td>0.877737</td>\n",
       "      <td>1.548718</td>\n",
       "      <td>0.403034</td>\n",
       "      <td>-0.407193</td>\n",
       "      <td>0.095921</td>\n",
       "      <td>0.592941</td>\n",
       "      <td>-0.270533</td>\n",
       "      <td>0.817739</td>\n",
       "      <td>...</td>\n",
       "      <td>-0.009431</td>\n",
       "      <td>0.798278</td>\n",
       "      <td>-0.137458</td>\n",
       "      <td>0.141267</td>\n",
       "      <td>-0.206010</td>\n",
       "      <td>0.502292</td>\n",
       "      <td>0.219422</td>\n",
       "      <td>0.215153</td>\n",
       "      <td>69.99</td>\n",
       "      <td>0</td>\n",
       "    </tr>\n",
       "  </tbody>\n",
       "</table>\n",
       "<p>5 rows × 31 columns</p>\n",
       "</div>"
      ],
      "text/plain": [
       "   Time        V1        V2        V3        V4        V5        V6        V7  \\\n",
       "0     0 -1.359807 -0.072781  2.536347  1.378155 -0.338321  0.462388  0.239599   \n",
       "1     0  1.191857  0.266151  0.166480  0.448154  0.060018 -0.082361 -0.078803   \n",
       "2     1 -1.358354 -1.340163  1.773209  0.379780 -0.503198  1.800499  0.791461   \n",
       "3     1 -0.966272 -0.185226  1.792993 -0.863291 -0.010309  1.247203  0.237609   \n",
       "4     2 -1.158233  0.877737  1.548718  0.403034 -0.407193  0.095921  0.592941   \n",
       "\n",
       "         V8        V9  ...       V21       V22       V23       V24       V25  \\\n",
       "0  0.098698  0.363787  ... -0.018307  0.277838 -0.110474  0.066928  0.128539   \n",
       "1  0.085102 -0.255425  ... -0.225775 -0.638672  0.101288 -0.339846  0.167170   \n",
       "2  0.247676 -1.514654  ...  0.247998  0.771679  0.909412 -0.689281 -0.327642   \n",
       "3  0.377436 -1.387024  ... -0.108300  0.005274 -0.190321 -1.175575  0.647376   \n",
       "4 -0.270533  0.817739  ... -0.009431  0.798278 -0.137458  0.141267 -0.206010   \n",
       "\n",
       "        V26       V27       V28  Amount  Class  \n",
       "0 -0.189115  0.133558 -0.021053  149.62      0  \n",
       "1  0.125895 -0.008983  0.014724    2.69      0  \n",
       "2 -0.139097 -0.055353 -0.059752  378.66      0  \n",
       "3 -0.221929  0.062723  0.061458  123.50      0  \n",
       "4  0.502292  0.219422  0.215153   69.99      0  \n",
       "\n",
       "[5 rows x 31 columns]"
      ]
     },
     "execution_count": 3,
     "metadata": {},
     "output_type": "execute_result"
    }
   ],
   "source": [
    "data.head()"
   ]
  },
  {
   "cell_type": "code",
   "execution_count": 4,
   "id": "eaefce27",
   "metadata": {},
   "outputs": [
    {
     "data": {
      "text/html": [
       "<div>\n",
       "<style scoped>\n",
       "    .dataframe tbody tr th:only-of-type {\n",
       "        vertical-align: middle;\n",
       "    }\n",
       "\n",
       "    .dataframe tbody tr th {\n",
       "        vertical-align: top;\n",
       "    }\n",
       "\n",
       "    .dataframe thead th {\n",
       "        text-align: right;\n",
       "    }\n",
       "</style>\n",
       "<table border=\"1\" class=\"dataframe\">\n",
       "  <thead>\n",
       "    <tr style=\"text-align: right;\">\n",
       "      <th></th>\n",
       "      <th>Time</th>\n",
       "      <th>V1</th>\n",
       "      <th>V2</th>\n",
       "      <th>V3</th>\n",
       "      <th>V4</th>\n",
       "      <th>V5</th>\n",
       "      <th>V6</th>\n",
       "      <th>V7</th>\n",
       "      <th>V8</th>\n",
       "      <th>V9</th>\n",
       "      <th>...</th>\n",
       "      <th>V21</th>\n",
       "      <th>V22</th>\n",
       "      <th>V23</th>\n",
       "      <th>V24</th>\n",
       "      <th>V25</th>\n",
       "      <th>V26</th>\n",
       "      <th>V27</th>\n",
       "      <th>V28</th>\n",
       "      <th>Amount</th>\n",
       "      <th>Class</th>\n",
       "    </tr>\n",
       "  </thead>\n",
       "  <tbody>\n",
       "    <tr>\n",
       "      <th>1170</th>\n",
       "      <td>912</td>\n",
       "      <td>1.083003</td>\n",
       "      <td>0.201589</td>\n",
       "      <td>1.497664</td>\n",
       "      <td>2.661922</td>\n",
       "      <td>-0.621256</td>\n",
       "      <td>0.618554</td>\n",
       "      <td>-0.644140</td>\n",
       "      <td>0.310919</td>\n",
       "      <td>0.125964</td>\n",
       "      <td>...</td>\n",
       "      <td>-0.060433</td>\n",
       "      <td>0.009647</td>\n",
       "      <td>0.077072</td>\n",
       "      <td>0.072141</td>\n",
       "      <td>0.220747</td>\n",
       "      <td>-0.013483</td>\n",
       "      <td>0.058596</td>\n",
       "      <td>0.032054</td>\n",
       "      <td>0.00</td>\n",
       "      <td>0</td>\n",
       "    </tr>\n",
       "    <tr>\n",
       "      <th>1171</th>\n",
       "      <td>912</td>\n",
       "      <td>-0.416621</td>\n",
       "      <td>1.019731</td>\n",
       "      <td>1.337170</td>\n",
       "      <td>-0.203938</td>\n",
       "      <td>0.389846</td>\n",
       "      <td>-0.131373</td>\n",
       "      <td>0.644427</td>\n",
       "      <td>0.081807</td>\n",
       "      <td>-0.423742</td>\n",
       "      <td>...</td>\n",
       "      <td>-0.229379</td>\n",
       "      <td>-0.540069</td>\n",
       "      <td>-0.060893</td>\n",
       "      <td>-0.434687</td>\n",
       "      <td>-0.187677</td>\n",
       "      <td>0.130568</td>\n",
       "      <td>0.284018</td>\n",
       "      <td>0.113227</td>\n",
       "      <td>2.28</td>\n",
       "      <td>0</td>\n",
       "    </tr>\n",
       "    <tr>\n",
       "      <th>1172</th>\n",
       "      <td>914</td>\n",
       "      <td>-0.820178</td>\n",
       "      <td>1.225605</td>\n",
       "      <td>1.517290</td>\n",
       "      <td>-0.007492</td>\n",
       "      <td>0.310123</td>\n",
       "      <td>-0.936490</td>\n",
       "      <td>1.026234</td>\n",
       "      <td>-0.163058</td>\n",
       "      <td>-0.500997</td>\n",
       "      <td>...</td>\n",
       "      <td>0.032831</td>\n",
       "      <td>0.136686</td>\n",
       "      <td>-0.347711</td>\n",
       "      <td>0.390412</td>\n",
       "      <td>0.849821</td>\n",
       "      <td>-0.405567</td>\n",
       "      <td>0.074595</td>\n",
       "      <td>0.040960</td>\n",
       "      <td>11.03</td>\n",
       "      <td>0</td>\n",
       "    </tr>\n",
       "    <tr>\n",
       "      <th>1173</th>\n",
       "      <td>915</td>\n",
       "      <td>-0.846062</td>\n",
       "      <td>1.229172</td>\n",
       "      <td>1.199372</td>\n",
       "      <td>-0.159955</td>\n",
       "      <td>-0.100758</td>\n",
       "      <td>-0.133499</td>\n",
       "      <td>0.225048</td>\n",
       "      <td>0.610909</td>\n",
       "      <td>-0.920157</td>\n",
       "      <td>...</td>\n",
       "      <td>-0.096225</td>\n",
       "      <td>-0.330107</td>\n",
       "      <td>0.056005</td>\n",
       "      <td>0.013645</td>\n",
       "      <td>-0.249805</td>\n",
       "      <td>0.083841</td>\n",
       "      <td>0.154696</td>\n",
       "      <td>0.046125</td>\n",
       "      <td>8.99</td>\n",
       "      <td>0</td>\n",
       "    </tr>\n",
       "    <tr>\n",
       "      <th>1174</th>\n",
       "      <td>916</td>\n",
       "      <td>-1.436085</td>\n",
       "      <td>1.974649</td>\n",
       "      <td>0.427860</td>\n",
       "      <td>-0.405554</td>\n",
       "      <td>0.287329</td>\n",
       "      <td>-0.587761</td>\n",
       "      <td>0.677872</td>\n",
       "      <td>-0.005181</td>\n",
       "      <td>0.519908</td>\n",
       "      <td>...</td>\n",
       "      <td>-0.465827</td>\n",
       "      <td>-0.900885</td>\n",
       "      <td>-0.070394</td>\n",
       "      <td>-0.507925</td>\n",
       "      <td>0.234098</td>\n",
       "      <td>0.144470</td>\n",
       "      <td>0.762605</td>\n",
       "      <td>0.434785</td>\n",
       "      <td>4.97</td>\n",
       "      <td>0</td>\n",
       "    </tr>\n",
       "  </tbody>\n",
       "</table>\n",
       "<p>5 rows × 31 columns</p>\n",
       "</div>"
      ],
      "text/plain": [
       "      Time        V1        V2        V3        V4        V5        V6  \\\n",
       "1170   912  1.083003  0.201589  1.497664  2.661922 -0.621256  0.618554   \n",
       "1171   912 -0.416621  1.019731  1.337170 -0.203938  0.389846 -0.131373   \n",
       "1172   914 -0.820178  1.225605  1.517290 -0.007492  0.310123 -0.936490   \n",
       "1173   915 -0.846062  1.229172  1.199372 -0.159955 -0.100758 -0.133499   \n",
       "1174   916 -1.436085  1.974649  0.427860 -0.405554  0.287329 -0.587761   \n",
       "\n",
       "            V7        V8        V9  ...       V21       V22       V23  \\\n",
       "1170 -0.644140  0.310919  0.125964  ... -0.060433  0.009647  0.077072   \n",
       "1171  0.644427  0.081807 -0.423742  ... -0.229379 -0.540069 -0.060893   \n",
       "1172  1.026234 -0.163058 -0.500997  ...  0.032831  0.136686 -0.347711   \n",
       "1173  0.225048  0.610909 -0.920157  ... -0.096225 -0.330107  0.056005   \n",
       "1174  0.677872 -0.005181  0.519908  ... -0.465827 -0.900885 -0.070394   \n",
       "\n",
       "           V24       V25       V26       V27       V28  Amount  Class  \n",
       "1170  0.072141  0.220747 -0.013483  0.058596  0.032054    0.00      0  \n",
       "1171 -0.434687 -0.187677  0.130568  0.284018  0.113227    2.28      0  \n",
       "1172  0.390412  0.849821 -0.405567  0.074595  0.040960   11.03      0  \n",
       "1173  0.013645 -0.249805  0.083841  0.154696  0.046125    8.99      0  \n",
       "1174 -0.507925  0.234098  0.144470  0.762605  0.434785    4.97      0  \n",
       "\n",
       "[5 rows x 31 columns]"
      ]
     },
     "execution_count": 4,
     "metadata": {},
     "output_type": "execute_result"
    }
   ],
   "source": [
    "data.tail()"
   ]
  },
  {
   "cell_type": "code",
   "execution_count": 5,
   "id": "ecba0329",
   "metadata": {},
   "outputs": [
    {
     "data": {
      "text/plain": [
       "(1175, 31)"
      ]
     },
     "execution_count": 5,
     "metadata": {},
     "output_type": "execute_result"
    }
   ],
   "source": [
    "data.shape"
   ]
  },
  {
   "cell_type": "code",
   "execution_count": 6,
   "id": "cee5426f",
   "metadata": {},
   "outputs": [
    {
     "data": {
      "text/plain": [
       "Index(['Time', 'V1', 'V2', 'V3', 'V4', 'V5', 'V6', 'V7', 'V8', 'V9', 'V10',\n",
       "       'V11', 'V12', 'V13', 'V14', 'V15', 'V16', 'V17', 'V18', 'V19', 'V20',\n",
       "       'V21', 'V22', 'V23', 'V24', 'V25', 'V26', 'V27', 'V28', 'Amount',\n",
       "       'Class'],\n",
       "      dtype='object')"
      ]
     },
     "execution_count": 6,
     "metadata": {},
     "output_type": "execute_result"
    }
   ],
   "source": [
    "data.columns"
   ]
  },
  {
   "cell_type": "code",
   "execution_count": 7,
   "id": "140de214",
   "metadata": {},
   "outputs": [
    {
     "name": "stdout",
     "output_type": "stream",
     "text": [
      "<class 'pandas.core.frame.DataFrame'>\n",
      "RangeIndex: 1175 entries, 0 to 1174\n",
      "Data columns (total 31 columns):\n",
      " #   Column  Non-Null Count  Dtype  \n",
      "---  ------  --------------  -----  \n",
      " 0   Time    1175 non-null   int64  \n",
      " 1   V1      1175 non-null   float64\n",
      " 2   V2      1175 non-null   float64\n",
      " 3   V3      1175 non-null   float64\n",
      " 4   V4      1175 non-null   float64\n",
      " 5   V5      1175 non-null   float64\n",
      " 6   V6      1175 non-null   float64\n",
      " 7   V7      1175 non-null   float64\n",
      " 8   V8      1175 non-null   float64\n",
      " 9   V9      1175 non-null   float64\n",
      " 10  V10     1175 non-null   float64\n",
      " 11  V11     1175 non-null   float64\n",
      " 12  V12     1175 non-null   float64\n",
      " 13  V13     1175 non-null   float64\n",
      " 14  V14     1175 non-null   float64\n",
      " 15  V15     1175 non-null   float64\n",
      " 16  V16     1175 non-null   float64\n",
      " 17  V17     1175 non-null   float64\n",
      " 18  V18     1175 non-null   float64\n",
      " 19  V19     1175 non-null   float64\n",
      " 20  V20     1175 non-null   float64\n",
      " 21  V21     1175 non-null   float64\n",
      " 22  V22     1175 non-null   float64\n",
      " 23  V23     1175 non-null   float64\n",
      " 24  V24     1175 non-null   float64\n",
      " 25  V25     1175 non-null   float64\n",
      " 26  V26     1175 non-null   float64\n",
      " 27  V27     1175 non-null   float64\n",
      " 28  V28     1175 non-null   float64\n",
      " 29  Amount  1175 non-null   float64\n",
      " 30  Class   1175 non-null   int64  \n",
      "dtypes: float64(29), int64(2)\n",
      "memory usage: 284.7 KB\n"
     ]
    }
   ],
   "source": [
    "data.info()"
   ]
  },
  {
   "cell_type": "code",
   "execution_count": 8,
   "id": "a1d1beb8",
   "metadata": {},
   "outputs": [
    {
     "data": {
      "text/html": [
       "<div>\n",
       "<style scoped>\n",
       "    .dataframe tbody tr th:only-of-type {\n",
       "        vertical-align: middle;\n",
       "    }\n",
       "\n",
       "    .dataframe tbody tr th {\n",
       "        vertical-align: top;\n",
       "    }\n",
       "\n",
       "    .dataframe thead th {\n",
       "        text-align: right;\n",
       "    }\n",
       "</style>\n",
       "<table border=\"1\" class=\"dataframe\">\n",
       "  <thead>\n",
       "    <tr style=\"text-align: right;\">\n",
       "      <th></th>\n",
       "      <th>Time</th>\n",
       "      <th>V1</th>\n",
       "      <th>V2</th>\n",
       "      <th>V3</th>\n",
       "      <th>V4</th>\n",
       "      <th>V5</th>\n",
       "      <th>V6</th>\n",
       "      <th>V7</th>\n",
       "      <th>V8</th>\n",
       "      <th>V9</th>\n",
       "      <th>...</th>\n",
       "      <th>V21</th>\n",
       "      <th>V22</th>\n",
       "      <th>V23</th>\n",
       "      <th>V24</th>\n",
       "      <th>V25</th>\n",
       "      <th>V26</th>\n",
       "      <th>V27</th>\n",
       "      <th>V28</th>\n",
       "      <th>Amount</th>\n",
       "      <th>Class</th>\n",
       "    </tr>\n",
       "  </thead>\n",
       "  <tbody>\n",
       "    <tr>\n",
       "      <th>count</th>\n",
       "      <td>1175.000000</td>\n",
       "      <td>1175.000000</td>\n",
       "      <td>1175.000000</td>\n",
       "      <td>1175.000000</td>\n",
       "      <td>1175.000000</td>\n",
       "      <td>1175.000000</td>\n",
       "      <td>1175.000000</td>\n",
       "      <td>1175.000000</td>\n",
       "      <td>1175.000000</td>\n",
       "      <td>1175.000000</td>\n",
       "      <td>...</td>\n",
       "      <td>1175.000000</td>\n",
       "      <td>1175.000000</td>\n",
       "      <td>1175.000000</td>\n",
       "      <td>1175.000000</td>\n",
       "      <td>1175.000000</td>\n",
       "      <td>1175.000000</td>\n",
       "      <td>1175.000000</td>\n",
       "      <td>1175.000000</td>\n",
       "      <td>1175.000000</td>\n",
       "      <td>1175.000000</td>\n",
       "    </tr>\n",
       "    <tr>\n",
       "      <th>mean</th>\n",
       "      <td>440.512340</td>\n",
       "      <td>-0.195522</td>\n",
       "      <td>0.238864</td>\n",
       "      <td>0.877864</td>\n",
       "      <td>0.250684</td>\n",
       "      <td>-0.028227</td>\n",
       "      <td>0.125496</td>\n",
       "      <td>0.103227</td>\n",
       "      <td>-0.069262</td>\n",
       "      <td>0.002643</td>\n",
       "      <td>...</td>\n",
       "      <td>-0.004704</td>\n",
       "      <td>-0.119654</td>\n",
       "      <td>-0.045802</td>\n",
       "      <td>0.004934</td>\n",
       "      <td>0.117042</td>\n",
       "      <td>0.029494</td>\n",
       "      <td>0.014052</td>\n",
       "      <td>-0.015947</td>\n",
       "      <td>65.403974</td>\n",
       "      <td>0.001702</td>\n",
       "    </tr>\n",
       "    <tr>\n",
       "      <th>std</th>\n",
       "      <td>264.664706</td>\n",
       "      <td>1.332730</td>\n",
       "      <td>1.156325</td>\n",
       "      <td>1.014843</td>\n",
       "      <td>1.249005</td>\n",
       "      <td>1.069445</td>\n",
       "      <td>1.212893</td>\n",
       "      <td>0.828407</td>\n",
       "      <td>0.875074</td>\n",
       "      <td>0.917513</td>\n",
       "      <td>...</td>\n",
       "      <td>0.616930</td>\n",
       "      <td>0.605819</td>\n",
       "      <td>0.360169</td>\n",
       "      <td>0.612043</td>\n",
       "      <td>0.422441</td>\n",
       "      <td>0.467580</td>\n",
       "      <td>0.342558</td>\n",
       "      <td>0.262694</td>\n",
       "      <td>181.631887</td>\n",
       "      <td>0.041239</td>\n",
       "    </tr>\n",
       "    <tr>\n",
       "      <th>min</th>\n",
       "      <td>0.000000</td>\n",
       "      <td>-6.169664</td>\n",
       "      <td>-12.114213</td>\n",
       "      <td>-5.694973</td>\n",
       "      <td>-4.657545</td>\n",
       "      <td>-6.631951</td>\n",
       "      <td>-3.498447</td>\n",
       "      <td>-4.925568</td>\n",
       "      <td>-7.494658</td>\n",
       "      <td>-2.980624</td>\n",
       "      <td>...</td>\n",
       "      <td>-4.134608</td>\n",
       "      <td>-2.776923</td>\n",
       "      <td>-4.020300</td>\n",
       "      <td>-1.867208</td>\n",
       "      <td>-1.544209</td>\n",
       "      <td>-1.243924</td>\n",
       "      <td>-3.525281</td>\n",
       "      <td>-2.735623</td>\n",
       "      <td>0.000000</td>\n",
       "      <td>0.000000</td>\n",
       "    </tr>\n",
       "    <tr>\n",
       "      <th>25%</th>\n",
       "      <td>209.000000</td>\n",
       "      <td>-0.943584</td>\n",
       "      <td>-0.183829</td>\n",
       "      <td>0.304705</td>\n",
       "      <td>-0.447541</td>\n",
       "      <td>-0.544770</td>\n",
       "      <td>-0.633167</td>\n",
       "      <td>-0.324985</td>\n",
       "      <td>-0.184333</td>\n",
       "      <td>-0.488265</td>\n",
       "      <td>...</td>\n",
       "      <td>-0.223155</td>\n",
       "      <td>-0.537403</td>\n",
       "      <td>-0.181107</td>\n",
       "      <td>-0.345891</td>\n",
       "      <td>-0.151854</td>\n",
       "      <td>-0.302025</td>\n",
       "      <td>-0.049677</td>\n",
       "      <td>-0.020419</td>\n",
       "      <td>5.285000</td>\n",
       "      <td>0.000000</td>\n",
       "    </tr>\n",
       "    <tr>\n",
       "      <th>50%</th>\n",
       "      <td>439.000000</td>\n",
       "      <td>-0.378417</td>\n",
       "      <td>0.287738</td>\n",
       "      <td>0.873036</td>\n",
       "      <td>0.348488</td>\n",
       "      <td>-0.136588</td>\n",
       "      <td>-0.127867</td>\n",
       "      <td>0.098736</td>\n",
       "      <td>0.022818</td>\n",
       "      <td>-0.069494</td>\n",
       "      <td>...</td>\n",
       "      <td>-0.078927</td>\n",
       "      <td>-0.093159</td>\n",
       "      <td>-0.053805</td>\n",
       "      <td>0.091474</td>\n",
       "      <td>0.148713</td>\n",
       "      <td>0.002149</td>\n",
       "      <td>0.021368</td>\n",
       "      <td>0.020521</td>\n",
       "      <td>15.380000</td>\n",
       "      <td>0.000000</td>\n",
       "    </tr>\n",
       "    <tr>\n",
       "      <th>75%</th>\n",
       "      <td>666.000000</td>\n",
       "      <td>1.122945</td>\n",
       "      <td>0.873290</td>\n",
       "      <td>1.515950</td>\n",
       "      <td>1.059309</td>\n",
       "      <td>0.429570</td>\n",
       "      <td>0.475533</td>\n",
       "      <td>0.569659</td>\n",
       "      <td>0.248932</td>\n",
       "      <td>0.435990</td>\n",
       "      <td>...</td>\n",
       "      <td>0.083120</td>\n",
       "      <td>0.284383</td>\n",
       "      <td>0.069838</td>\n",
       "      <td>0.422154</td>\n",
       "      <td>0.419696</td>\n",
       "      <td>0.268691</td>\n",
       "      <td>0.114255</td>\n",
       "      <td>0.084056</td>\n",
       "      <td>55.530000</td>\n",
       "      <td>0.000000</td>\n",
       "    </tr>\n",
       "    <tr>\n",
       "      <th>max</th>\n",
       "      <td>916.000000</td>\n",
       "      <td>1.685314</td>\n",
       "      <td>6.118940</td>\n",
       "      <td>4.017561</td>\n",
       "      <td>4.861129</td>\n",
       "      <td>7.672544</td>\n",
       "      <td>5.122103</td>\n",
       "      <td>4.808426</td>\n",
       "      <td>3.877662</td>\n",
       "      <td>6.450992</td>\n",
       "      <td>...</td>\n",
       "      <td>5.273420</td>\n",
       "      <td>1.957759</td>\n",
       "      <td>3.150413</td>\n",
       "      <td>1.215279</td>\n",
       "      <td>1.206820</td>\n",
       "      <td>3.087444</td>\n",
       "      <td>2.490503</td>\n",
       "      <td>1.575380</td>\n",
       "      <td>3828.040000</td>\n",
       "      <td>1.000000</td>\n",
       "    </tr>\n",
       "  </tbody>\n",
       "</table>\n",
       "<p>8 rows × 31 columns</p>\n",
       "</div>"
      ],
      "text/plain": [
       "              Time           V1           V2           V3           V4  \\\n",
       "count  1175.000000  1175.000000  1175.000000  1175.000000  1175.000000   \n",
       "mean    440.512340    -0.195522     0.238864     0.877864     0.250684   \n",
       "std     264.664706     1.332730     1.156325     1.014843     1.249005   \n",
       "min       0.000000    -6.169664   -12.114213    -5.694973    -4.657545   \n",
       "25%     209.000000    -0.943584    -0.183829     0.304705    -0.447541   \n",
       "50%     439.000000    -0.378417     0.287738     0.873036     0.348488   \n",
       "75%     666.000000     1.122945     0.873290     1.515950     1.059309   \n",
       "max     916.000000     1.685314     6.118940     4.017561     4.861129   \n",
       "\n",
       "                V5           V6           V7           V8           V9  ...  \\\n",
       "count  1175.000000  1175.000000  1175.000000  1175.000000  1175.000000  ...   \n",
       "mean     -0.028227     0.125496     0.103227    -0.069262     0.002643  ...   \n",
       "std       1.069445     1.212893     0.828407     0.875074     0.917513  ...   \n",
       "min      -6.631951    -3.498447    -4.925568    -7.494658    -2.980624  ...   \n",
       "25%      -0.544770    -0.633167    -0.324985    -0.184333    -0.488265  ...   \n",
       "50%      -0.136588    -0.127867     0.098736     0.022818    -0.069494  ...   \n",
       "75%       0.429570     0.475533     0.569659     0.248932     0.435990  ...   \n",
       "max       7.672544     5.122103     4.808426     3.877662     6.450992  ...   \n",
       "\n",
       "               V21          V22          V23          V24          V25  \\\n",
       "count  1175.000000  1175.000000  1175.000000  1175.000000  1175.000000   \n",
       "mean     -0.004704    -0.119654    -0.045802     0.004934     0.117042   \n",
       "std       0.616930     0.605819     0.360169     0.612043     0.422441   \n",
       "min      -4.134608    -2.776923    -4.020300    -1.867208    -1.544209   \n",
       "25%      -0.223155    -0.537403    -0.181107    -0.345891    -0.151854   \n",
       "50%      -0.078927    -0.093159    -0.053805     0.091474     0.148713   \n",
       "75%       0.083120     0.284383     0.069838     0.422154     0.419696   \n",
       "max       5.273420     1.957759     3.150413     1.215279     1.206820   \n",
       "\n",
       "               V26          V27          V28       Amount        Class  \n",
       "count  1175.000000  1175.000000  1175.000000  1175.000000  1175.000000  \n",
       "mean      0.029494     0.014052    -0.015947    65.403974     0.001702  \n",
       "std       0.467580     0.342558     0.262694   181.631887     0.041239  \n",
       "min      -1.243924    -3.525281    -2.735623     0.000000     0.000000  \n",
       "25%      -0.302025    -0.049677    -0.020419     5.285000     0.000000  \n",
       "50%       0.002149     0.021368     0.020521    15.380000     0.000000  \n",
       "75%       0.268691     0.114255     0.084056    55.530000     0.000000  \n",
       "max       3.087444     2.490503     1.575380  3828.040000     1.000000  \n",
       "\n",
       "[8 rows x 31 columns]"
      ]
     },
     "execution_count": 8,
     "metadata": {},
     "output_type": "execute_result"
    }
   ],
   "source": [
    "data.describe()"
   ]
  },
  {
   "cell_type": "code",
   "execution_count": 9,
   "id": "5b1a2d78",
   "metadata": {},
   "outputs": [
    {
     "data": {
      "text/plain": [
       "7"
      ]
     },
     "execution_count": 9,
     "metadata": {},
     "output_type": "execute_result"
    }
   ],
   "source": [
    "data.duplicated().sum()"
   ]
  },
  {
   "cell_type": "code",
   "execution_count": 10,
   "id": "68e016d3",
   "metadata": {},
   "outputs": [],
   "source": [
    "data = data.drop_duplicates()"
   ]
  },
  {
   "cell_type": "code",
   "execution_count": 11,
   "id": "91f70431",
   "metadata": {},
   "outputs": [
    {
     "data": {
      "text/plain": [
       "Time      0\n",
       "V1        0\n",
       "V2        0\n",
       "V3        0\n",
       "V4        0\n",
       "V5        0\n",
       "V6        0\n",
       "V7        0\n",
       "V8        0\n",
       "V9        0\n",
       "V10       0\n",
       "V11       0\n",
       "V12       0\n",
       "V13       0\n",
       "V14       0\n",
       "V15       0\n",
       "V16       0\n",
       "V17       0\n",
       "V18       0\n",
       "V19       0\n",
       "V20       0\n",
       "V21       0\n",
       "V22       0\n",
       "V23       0\n",
       "V24       0\n",
       "V25       0\n",
       "V26       0\n",
       "V27       0\n",
       "V28       0\n",
       "Amount    0\n",
       "Class     0\n",
       "dtype: int64"
      ]
     },
     "execution_count": 11,
     "metadata": {},
     "output_type": "execute_result"
    }
   ],
   "source": [
    "data.isnull().sum()"
   ]
  },
  {
   "cell_type": "code",
   "execution_count": 12,
   "id": "b450875c",
   "metadata": {},
   "outputs": [
    {
     "data": {
      "text/plain": [
       "array([0, 1], dtype=int64)"
      ]
     },
     "execution_count": 12,
     "metadata": {},
     "output_type": "execute_result"
    }
   ],
   "source": [
    "data['Class'].unique()"
   ]
  },
  {
   "cell_type": "code",
   "execution_count": 13,
   "id": "b99f57d6",
   "metadata": {},
   "outputs": [
    {
     "data": {
      "text/plain": [
       "0    1166\n",
       "1       2\n",
       "Name: Class, dtype: int64"
      ]
     },
     "execution_count": 13,
     "metadata": {},
     "output_type": "execute_result"
    }
   ],
   "source": [
    "data['Class'].value_counts()"
   ]
  },
  {
   "cell_type": "code",
   "execution_count": 14,
   "id": "0d2baf49",
   "metadata": {},
   "outputs": [
    {
     "data": {
      "image/png": "[encoded data removed]",
      "text/plain": [
       "<Figure size 1080x432 with 1 Axes>"
      ]
     },
     "metadata": {
      "needs_background": "light"
     },
     "output_type": "display_data"
    }
   ],
   "source": [
    "plt.figure(figsize=(15,6))\n",
    "sns.countplot(data['Class'], data = data,\n",
    "palette='hls')\n",
    "plt.xticks(rotation = 90)\n",
    "plt.show()"
   ]
  },
  {
   "cell_type": "code",
   "execution_count": 18,
   "id": "bb74db85",
   "metadata": {},
   "outputs": [
    {
     "data": {
      "image/png": "[encoded data removed]",
      "text/plain": [
       "<Figure size 1080x432 with 1 Axes>"
      ]
     },
     "metadata": {},
     "output_type": "display_data"
    }
   ],
   "source": [
    "plt.figure(figsize=(15,6))\n",
    "colors = sns.color_palette('bright')\n",
    "explode = [0.3, 0.02]\n",
    "plt.pie(data['Class'].value_counts(), colors = ['blue', 'orange'],\n",
    "labels = [0,1],\n",
    "explode = explode, autopct = '%0.0f%%', shadow = 'True',\n",
    "startangle = 90)\n",
    "plt.show()"
   ]
  },
  {
   "cell_type": "code",
   "execution_count": 22,
   "id": "30eadd82",
   "metadata": {},
   "outputs": [
    {
     "data": {
      "image/png": "[encoded data removed]",
      "text/plain": [
       "<Figure size 1440x3600 with 28 Axes>"
      ]
     },
     "metadata": {
      "needs_background": "light"
     },
     "output_type": "display_data"
    }
   ],
   "source": [
    "data1 = data.drop(columns=['Time', 'Amount', 'Class'], axis=1)\n",
    "fig, ax = plt.subplots(ncols=4, nrows=7, figsize=(20, 50))\n",
    "index = 0\n",
    "ax = ax.flatten()\n",
    "for col in data1.columns:\n",
    "    sns.distplot(data1[col], ax=ax[index])\n",
    "index += 1\n",
    "plt.tight_layout(pad=0.5, w_pad=0.5, h_pad=5)"
   ]
  },
  {
   "cell_type": "code",
   "execution_count": 24,
   "id": "66f01c73",
   "metadata": {},
   "outputs": [
    {
     "data": {
      "text/plain": [
       "<Figure size 1080x432 with 0 Axes>"
      ]
     },
     "metadata": {},
     "output_type": "display_data"
    },
    {
     "data": {
      "text/plain": [
       "<Figure size 1080x432 with 0 Axes>"
      ]
     },
     "metadata": {},
     "output_type": "display_data"
    },
    {
     "data": {
      "text/plain": [
       "<Figure size 1080x432 with 0 Axes>"
      ]
     },
     "metadata": {},
     "output_type": "display_data"
    },
    {
     "data": {
      "text/plain": [
       "<Figure size 1080x432 with 0 Axes>"
      ]
     },
     "metadata": {},
     "output_type": "display_data"
    },
    {
     "data": {
      "text/plain": [
       "<Figure size 1080x432 with 0 Axes>"
      ]
     },
     "metadata": {},
     "output_type": "display_data"
    },
    {
     "data": {
      "text/plain": [
       "<Figure size 1080x432 with 0 Axes>"
      ]
     },
     "metadata": {},
     "output_type": "display_data"
    },
    {
     "data": {
      "text/plain": [
       "<Figure size 1080x432 with 0 Axes>"
      ]
     },
     "metadata": {},
     "output_type": "display_data"
    },
    {
     "data": {
      "text/plain": [
       "<Figure size 1080x432 with 0 Axes>"
      ]
     },
     "metadata": {},
     "output_type": "display_data"
    },
    {
     "data": {
      "text/plain": [
       "<Figure size 1080x432 with 0 Axes>"
      ]
     },
     "metadata": {},
     "output_type": "display_data"
    },
    {
     "data": {
      "text/plain": [
       "<Figure size 1080x432 with 0 Axes>"
      ]
     },
     "metadata": {},
     "output_type": "display_data"
    },
    {
     "data": {
      "text/plain": [
       "<Figure size 1080x432 with 0 Axes>"
      ]
     },
     "metadata": {},
     "output_type": "display_data"
    },
    {
     "data": {
      "text/plain": [
       "<Figure size 1080x432 with 0 Axes>"
      ]
     },
     "metadata": {},
     "output_type": "display_data"
    },
    {
     "data": {
      "text/plain": [
       "<Figure size 1080x432 with 0 Axes>"
      ]
     },
     "metadata": {},
     "output_type": "display_data"
    },
    {
     "data": {
      "text/plain": [
       "<Figure size 1080x432 with 0 Axes>"
      ]
     },
     "metadata": {},
     "output_type": "display_data"
    },
    {
     "data": {
      "text/plain": [
       "<Figure size 1080x432 with 0 Axes>"
      ]
     },
     "metadata": {},
     "output_type": "display_data"
    },
    {
     "data": {
      "text/plain": [
       "<Figure size 1080x432 with 0 Axes>"
      ]
     },
     "metadata": {},
     "output_type": "display_data"
    },
    {
     "data": {
      "text/plain": [
       "<Figure size 1080x432 with 0 Axes>"
      ]
     },
     "metadata": {},
     "output_type": "display_data"
    },
    {
     "data": {
      "text/plain": [
       "<Figure size 1080x432 with 0 Axes>"
      ]
     },
     "metadata": {},
     "output_type": "display_data"
    },
    {
     "data": {
      "text/plain": [
       "<Figure size 1080x432 with 0 Axes>"
      ]
     },
     "metadata": {},
     "output_type": "display_data"
    },
    {
     "data": {
      "text/plain": [
       "<Figure size 1080x432 with 0 Axes>"
      ]
     },
     "metadata": {},
     "output_type": "display_data"
    },
    {
     "data": {
      "text/plain": [
       "<Figure size 1080x432 with 0 Axes>"
      ]
     },
     "metadata": {},
     "output_type": "display_data"
    },
    {
     "data": {
      "text/plain": [
       "<Figure size 1080x432 with 0 Axes>"
      ]
     },
     "metadata": {},
     "output_type": "display_data"
    },
    {
     "data": {
      "text/plain": [
       "<Figure size 1080x432 with 0 Axes>"
      ]
     },
     "metadata": {},
     "output_type": "display_data"
    },
    {
     "data": {
      "text/plain": [
       "<Figure size 1080x432 with 0 Axes>"
      ]
     },
     "metadata": {},
     "output_type": "display_data"
    },
    {
     "data": {
      "text/plain": [
       "<Figure size 1080x432 with 0 Axes>"
      ]
     },
     "metadata": {},
     "output_type": "display_data"
    },
    {
     "data": {
      "text/plain": [
       "<Figure size 1080x432 with 0 Axes>"
      ]
     },
     "metadata": {},
     "output_type": "display_data"
    },
    {
     "data": {
      "text/plain": [
       "<Figure size 1080x432 with 0 Axes>"
      ]
     },
     "metadata": {},
     "output_type": "display_data"
    },
    {
     "data": {
      "image/png": "[encoded data removed]",
      "text/plain": [
       "<Figure size 1080x432 with 1 Axes>"
      ]
     },
     "metadata": {
      "needs_background": "light"
     },
     "output_type": "display_data"
    }
   ],
   "source": [
    "for i in data1.columns:\n",
    "    plt.figure(figsize=(15,6))\n",
    "sns.boxplot(data1[i])\n",
    "plt.xticks(rotation = 90)\n",
    "plt.show()"
   ]
  },
  {
   "cell_type": "code",
   "execution_count": 25,
   "id": "5da8988e",
   "metadata": {},
   "outputs": [
    {
     "data": {
      "image/png": "[encoded data removed]",
      "text/plain": [
       "<Figure size 1080x432 with 1 Axes>"
      ]
     },
     "metadata": {
      "needs_background": "light"
     },
     "output_type": "display_data"
    }
   ],
   "source": [
    "plt.figure(figsize=(15,6))\n",
    "sns.distplot(data['Amount'])\n",
    "plt.show()"
   ]
  },
  {
   "cell_type": "code",
   "execution_count": 26,
   "id": "209aa4de",
   "metadata": {},
   "outputs": [
    {
     "data": {
      "image/png": "[encoded data removed]",
      "text/plain": [
       "<Figure size 1080x432 with 1 Axes>"
      ]
     },
     "metadata": {
      "needs_background": "light"
     },
     "output_type": "display_data"
    }
   ],
   "source": [
    "plt.figure(figsize=(15,6))\n",
    "sns.distplot(data['Time'])\n",
    "plt.show()"
   ]
  },
  {
   "cell_type": "code",
   "execution_count": 27,
   "id": "f1ef5f36",
   "metadata": {},
   "outputs": [
    {
     "data": {
      "image/png": "[encoded data removed]",
      "text/plain": [
       "<Figure size 1080x432 with 1 Axes>"
      ]
     },
     "metadata": {
      "needs_background": "light"
     },
     "output_type": "display_data"
    }
   ],
   "source": [
    "plt.figure(figsize=(15,6))\n",
    "sns.distplot(data['Class'])\n",
    "plt.show()"
   ]
  },
  {
   "cell_type": "code",
   "execution_count": 28,
   "id": "169b84b2",
   "metadata": {},
   "outputs": [],
   "source": [
    "x = data.drop(columns=['Class'], axis=1)\n",
    "y = data['Class']"
   ]
  },
  {
   "cell_type": "code",
   "execution_count": 29,
   "id": "3fddb7ef",
   "metadata": {},
   "outputs": [],
   "source": [
    "from sklearn.preprocessing import StandardScaler"
   ]
  },
  {
   "cell_type": "code",
   "execution_count": 30,
   "id": "6bbeb5fe",
   "metadata": {},
   "outputs": [],
   "source": [
    "sc = StandardScaler()\n",
    "x_scaler = sc.fit_transform(x)"
   ]
  },
  {
   "cell_type": "code",
   "execution_count": 31,
   "id": "78fa8ce0",
   "metadata": {},
   "outputs": [
    {
     "data": {
      "text/plain": [
       "array([ 1.79397658, -0.93266365,  1.50370129, -0.44417727, -0.52191646,\n",
       "        0.29588348, -0.58376997,  0.69188357,  0.07455029,  0.56368441,\n",
       "        0.93524784, -0.84571087, -0.3190015 ,  1.17749893, -0.95660319,\n",
       "        0.78928123,  0.77728645, -0.4304276 ,  0.17883876,  0.05748165,\n",
       "        1.35837769, -0.74408759, -1.29186636, -0.06804346, -0.85027103,\n",
       "        0.27928547,  0.24129683,  2.17952488,  1.71316014, -0.33403201])"
      ]
     },
     "execution_count": 31,
     "metadata": {},
     "output_type": "execute_result"
    }
   ],
   "source": [
    "x_scaler [-1]"
   ]
  },
  {
   "cell_type": "code",
   "execution_count": 32,
   "id": "980df7e9",
   "metadata": {},
   "outputs": [],
   "source": [
    "from sklearn.model_selection import train_test_split\n"
   ]
  },
  {
   "cell_type": "code",
   "execution_count": 33,
   "id": "55e99deb",
   "metadata": {},
   "outputs": [],
   "source": [
    "x_train, x_test, y_train, y_test = train_test_split(x_scaler, y,\n",
    "test_size=0.20,\n",
    "random_state=42,\n",
    "stratify=y)\n"
   ]
  },
  {
   "cell_type": "code",
   "execution_count": 34,
   "id": "9bfa4ef3",
   "metadata": {},
   "outputs": [],
   "source": [
    "from sklearn.linear_model import LogisticRegression\n"
   ]
  },
  {
   "cell_type": "code",
   "execution_count": 35,
   "id": "1cd92ff9",
   "metadata": {},
   "outputs": [
    {
     "data": {
      "text/plain": [
       "LogisticRegression()"
      ]
     },
     "execution_count": 35,
     "metadata": {},
     "output_type": "execute_result"
    }
   ],
   "source": [
    "model = LogisticRegression()\n",
    "model.fit(x_train, y_train)"
   ]
  },
  {
   "cell_type": "code",
   "execution_count": 36,
   "id": "386ff1c1",
   "metadata": {},
   "outputs": [],
   "source": [
    "y_pred = model.predict(x_test)"
   ]
  },
  {
   "cell_type": "code",
   "execution_count": 37,
   "id": "288b0c73",
   "metadata": {},
   "outputs": [
    {
     "name": "stdout",
     "output_type": "stream",
     "text": [
      "Training Accuracy : 1.0\n",
      "Testing Accuracy : 1.0\n"
     ]
    }
   ],
   "source": [
    "print(\"Training Accuracy :\", model.score(x_train, y_train))\n",
    "print(\"Testing Accuracy :\", model.score(x_test, y_test))"
   ]
  },
  {
   "cell_type": "code",
   "execution_count": 38,
   "id": "ba760aab",
   "metadata": {},
   "outputs": [],
   "source": [
    "from sklearn.metrics import classification_report, f1_score\n"
   ]
  },
  {
   "cell_type": "code",
   "execution_count": 39,
   "id": "57f86748",
   "metadata": {},
   "outputs": [
    {
     "name": "stdout",
     "output_type": "stream",
     "text": [
      "              precision    recall  f1-score   support\n",
      "\n",
      "           0       1.00      1.00      1.00       234\n",
      "\n",
      "    accuracy                           1.00       234\n",
      "   macro avg       1.00      1.00      1.00       234\n",
      "weighted avg       1.00      1.00      1.00       234\n",
      "\n"
     ]
    }
   ],
   "source": [
    "print(classification_report(y_test, y_pred))\n"
   ]
  },
  {
   "cell_type": "code",
   "execution_count": 40,
   "id": "595392ee",
   "metadata": {},
   "outputs": [
    {
     "name": "stdout",
     "output_type": "stream",
     "text": [
      "F1 Score: 0.0\n"
     ]
    }
   ],
   "source": [
    "print(\"F1 Score:\",f1_score(y_test, y_pred))\n"
   ]
  },
  {
   "cell_type": "code",
   "execution_count": 41,
   "id": "11473262",
   "metadata": {},
   "outputs": [],
   "source": [
    "from sklearn.ensemble import RandomForestClassifier"
   ]
  },
  {
   "cell_type": "code",
   "execution_count": 42,
   "id": "4c0eb655",
   "metadata": {},
   "outputs": [
    {
     "data": {
      "text/plain": [
       "RandomForestClassifier()"
      ]
     },
     "execution_count": 42,
     "metadata": {},
     "output_type": "execute_result"
    }
   ],
   "source": [
    "model1 = RandomForestClassifier()\n",
    "model1.fit(x_train, y_train)"
   ]
  },
  {
   "cell_type": "code",
   "execution_count": 43,
   "id": "4850040b",
   "metadata": {},
   "outputs": [],
   "source": [
    "y_pred = model1.predict(x_test)"
   ]
  },
  {
   "cell_type": "code",
   "execution_count": 44,
   "id": "e9160dc7",
   "metadata": {},
   "outputs": [
    {
     "name": "stdout",
     "output_type": "stream",
     "text": [
      "Training Accuracy : 1.0\n",
      "Testing Accuracy : 1.0\n"
     ]
    }
   ],
   "source": [
    "print(\"Training Accuracy :\", model1.score(x_train, y_train))\n",
    "print(\"Testing Accuracy :\", model1.score(x_test, y_test))\n"
   ]
  },
  {
   "cell_type": "code",
   "execution_count": 45,
   "id": "4ce78f29",
   "metadata": {},
   "outputs": [
    {
     "name": "stdout",
     "output_type": "stream",
     "text": [
      "              precision    recall  f1-score   support\n",
      "\n",
      "           0       1.00      1.00      1.00       234\n",
      "\n",
      "    accuracy                           1.00       234\n",
      "   macro avg       1.00      1.00      1.00       234\n",
      "weighted avg       1.00      1.00      1.00       234\n",
      "\n"
     ]
    }
   ],
   "source": [
    "print(classification_report(y_test, y_pred))"
   ]
  },
  {
   "cell_type": "code",
   "execution_count": 46,
   "id": "f1b12815",
   "metadata": {},
   "outputs": [
    {
     "name": "stdout",
     "output_type": "stream",
     "text": [
      "F1 Score: 0.0\n"
     ]
    }
   ],
   "source": [
    "print(\"F1 Score:\",f1_score(y_test, y_pred))\n"
   ]
  },
  {
   "cell_type": "code",
   "execution_count": 53,
   "id": "8685bf97",
   "metadata": {},
   "outputs": [
    {
     "name": "stdout",
     "output_type": "stream",
     "text": [
      "              precision    recall  f1-score   support\n",
      "\n",
      "           0       1.00      1.00      1.00       234\n",
      "\n",
      "    accuracy                           1.00       234\n",
      "   macro avg       1.00      1.00      1.00       234\n",
      "weighted avg       1.00      1.00      1.00       234\n",
      "\n"
     ]
    }
   ],
   "source": [
    "print(classification_report(y_test, y_pred))\n"
   ]
  },
  {
   "cell_type": "code",
   "execution_count": 54,
   "id": "f66a3e76",
   "metadata": {},
   "outputs": [
    {
     "name": "stdout",
     "output_type": "stream",
     "text": [
      "F1 Score: 0.0\n"
     ]
    }
   ],
   "source": [
    "print(\"F1 Score:\",f1_score(y_test, y_pred))\n"
   ]
  },
  {
   "cell_type": "code",
   "execution_count": 55,
   "id": "c4cdb712",
   "metadata": {},
   "outputs": [
    {
     "data": {
      "image/png": "[encoded data removed]",
      "text/plain": [
       "<Figure size 1080x432 with 1 Axes>"
      ]
     },
     "metadata": {
      "needs_background": "light"
     },
     "output_type": "display_data"
    }
   ],
   "source": [
    "plt.figure(figsize=(15,6))\n",
    "sns.countplot(y_train)\n",
    "plt.show()"
   ]
  },
  {
   "cell_type": "code",
   "execution_count": 59,
   "id": "a998f8c4",
   "metadata": {},
   "outputs": [
    {
     "name": "stdout",
     "output_type": "stream",
     "text": [
      "              precision    recall  f1-score   support\n",
      "\n",
      "           0       1.00      1.00      1.00       234\n",
      "\n",
      "    accuracy                           1.00       234\n",
      "   macro avg       1.00      1.00      1.00       234\n",
      "weighted avg       1.00      1.00      1.00       234\n",
      "\n"
     ]
    }
   ],
   "source": [
    "print(classification_report(y_test, y_pred))\n"
   ]
  },
  {
   "cell_type": "code",
   "execution_count": 60,
   "id": "2f95b021",
   "metadata": {},
   "outputs": [
    {
     "name": "stdout",
     "output_type": "stream",
     "text": [
      "F1 Score: 0.0\n"
     ]
    }
   ],
   "source": [
    "print(\"F1 Score:\",f1_score(y_test, y_pred))"
   ]
  },
  {
   "cell_type": "code",
   "execution_count": null,
   "id": "49720750",
   "metadata": {},
   "outputs": [],
   "source": []
  }
 ],
 "metadata": {
  "kernelspec": {
   "display_name": "Python 3 (ipykernel)",
   "language": "python",
   "name": "python3"
  },
  "language_info": {
   "codemirror_mode": {
    "name": "ipython",
    "version": 3
   },
   "file_extension": ".py",
   "mimetype": "text/x-python",
   "name": "python",
   "nbconvert_exporter": "python",
   "pygments_lexer": "ipython3",
   "version": "3.9.7"
  }
 },
 "nbformat": 4,
 "nbformat_minor": 5
}
